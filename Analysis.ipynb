{
 "cells": [
  {
   "cell_type": "code",
   "execution_count": 1,
   "id": "6835bc78",
   "metadata": {},
   "outputs": [],
   "source": [
    "%matplotlib inline\n",
    "import pandas as pd\n",
    "import numpy as np\n",
    "import matplotlib.pyplot as plt\n",
    "import seaborn as sns "
   ]
  },
  {
   "cell_type": "code",
   "execution_count": 2,
   "id": "1c80d98d",
   "metadata": {},
   "outputs": [],
   "source": [
    "\n",
    "df = pd.read_excel(\"student_habits_performance.xlsx\")"
   ]
  },
  {
   "cell_type": "code",
   "execution_count": 3,
   "id": "354e7e85",
   "metadata": {},
   "outputs": [],
   "source": [
    "# NUmber of row in the missing in the columns.Answer provided in the  ascending order.\n",
    "student_habits_performance = df.isnull().sum().sort_values(ascending=False)"
   ]
  },
  {
   "cell_type": "code",
   "execution_count": 4,
   "id": "1de47d84",
   "metadata": {},
   "outputs": [
    {
     "name": "stdout",
     "output_type": "stream",
     "text": [
      "parental_education_level         91\n",
      "student_id                        0\n",
      "age                               0\n",
      "gender                            0\n",
      "study_hours_per_day               0\n",
      "social_media_hours                0\n",
      "netflix_hours                     0\n",
      "part_time_job                     0\n",
      "attendance_percentage             0\n",
      "sleep_hours                       0\n",
      "diet_quality                      0\n",
      "exercise_frequency                0\n",
      "internet_quality                  0\n",
      "mental_health_rating              0\n",
      "extracurricular_participation     0\n",
      "exam_score                        0\n",
      "dtype: int64\n"
     ]
    }
   ],
   "source": [
    "# Ascending=False = sort from most nulls to fewest\n",
    "# Ascending=True = sort from fewest nulls to most\n",
    "print(student_habits_performance)"
   ]
  },
  {
   "cell_type": "code",
   "execution_count": 5,
   "id": "3df69e13",
   "metadata": {},
   "outputs": [
    {
     "name": "stdout",
     "output_type": "stream",
     "text": [
      "student_id: 0.00%\n",
      "age: 0.00%\n",
      "gender: 0.00%\n",
      "study_hours_per_day: 0.00%\n",
      "social_media_hours: 0.00%\n",
      "netflix_hours: 0.00%\n",
      "part_time_job: 0.00%\n",
      "attendance_percentage: 0.00%\n",
      "sleep_hours: 0.00%\n",
      "diet_quality: 0.00%\n",
      "exercise_frequency: 0.00%\n",
      "parental_education_level: 9.10%\n",
      "internet_quality: 0.00%\n",
      "mental_health_rating: 0.00%\n",
      "extracurricular_participation: 0.00%\n",
      "exam_score: 0.00%\n"
     ]
    }
   ],
   "source": [
    "# The % of missing values in each column, shown to 2 decimal places\n",
    "for column in df.columns:\n",
    "    percentage = df[column].isnull().mean() * 100\n",
    "    print(f\"{column}: {percentage:.2f}%\")"
   ]
  },
  {
   "cell_type": "code",
   "execution_count": 6,
   "id": "094b2e32",
   "metadata": {},
   "outputs": [
    {
     "name": "stdout",
     "output_type": "stream",
     "text": [
      "<class 'pandas.core.frame.DataFrame'>\n",
      "RangeIndex: 1000 entries, 0 to 999\n",
      "Data columns (total 16 columns):\n",
      " #   Column                         Non-Null Count  Dtype  \n",
      "---  ------                         --------------  -----  \n",
      " 0   student_id                     1000 non-null   object \n",
      " 1   age                            1000 non-null   int64  \n",
      " 2   gender                         1000 non-null   object \n",
      " 3   study_hours_per_day            1000 non-null   float64\n",
      " 4   social_media_hours             1000 non-null   float64\n",
      " 5   netflix_hours                  1000 non-null   float64\n",
      " 6   part_time_job                  1000 non-null   object \n",
      " 7   attendance_percentage          1000 non-null   float64\n",
      " 8   sleep_hours                    1000 non-null   float64\n",
      " 9   diet_quality                   1000 non-null   object \n",
      " 10  exercise_frequency             1000 non-null   int64  \n",
      " 11  parental_education_level       909 non-null    object \n",
      " 12  internet_quality               1000 non-null   object \n",
      " 13  mental_health_rating           1000 non-null   int64  \n",
      " 14  extracurricular_participation  1000 non-null   object \n",
      " 15  exam_score                     1000 non-null   float64\n",
      "dtypes: float64(6), int64(3), object(7)\n",
      "memory usage: 125.1+ KB\n"
     ]
    }
   ],
   "source": [
    "df.info()"
   ]
  },
  {
   "cell_type": "code",
   "execution_count": 7,
   "id": "24b78aa1",
   "metadata": {},
   "outputs": [],
   "source": [
    "# Removing 'parental_education_level' because it may introduce bias,\n",
    "# adds pressure on students, and has 9% missing values.\n",
    "df = df.drop(columns=['parental_education_level'], errors='ignore')"
   ]
  },
  {
   "cell_type": "code",
   "execution_count": 8,
   "id": "ef320166",
   "metadata": {},
   "outputs": [
    {
     "name": "stdout",
     "output_type": "stream",
     "text": [
      "Column successfully deleted.\n"
     ]
    }
   ],
   "source": [
    "if 'parental_education_level' in df.columns:\n",
    "    print(\"Column still exists.\")\n",
    "else:\n",
    "    print(\"Column successfully deleted.\")"
   ]
  },
  {
   "cell_type": "code",
   "execution_count": 9,
   "id": "09e426b4",
   "metadata": {},
   "outputs": [],
   "source": [
    "#Trimming all the spaces that i can not see with my naked eye.\n",
    "df.columns = df.columns.str.strip()"
   ]
  },
  {
   "cell_type": "code",
   "execution_count": 10,
   "id": "e588d8f5",
   "metadata": {},
   "outputs": [],
   "source": [
    "#Checking for any N/A values in the dataset.\n",
    "if df.isnull().values.any():\n",
    "    print(\"The are still N/A values in the dataset.\")"
   ]
  },
  {
   "cell_type": "code",
   "execution_count": 11,
   "id": "f7fb40a4",
   "metadata": {},
   "outputs": [
    {
     "data": {
      "text/plain": [
       "student_id                       0\n",
       "age                              0\n",
       "gender                           0\n",
       "study_hours_per_day              0\n",
       "social_media_hours               0\n",
       "netflix_hours                    0\n",
       "part_time_job                    0\n",
       "attendance_percentage            0\n",
       "sleep_hours                      0\n",
       "diet_quality                     0\n",
       "exercise_frequency               0\n",
       "internet_quality                 0\n",
       "mental_health_rating             0\n",
       "extracurricular_participation    0\n",
       "exam_score                       0\n",
       "dtype: int64"
      ]
     },
     "execution_count": 11,
     "metadata": {},
     "output_type": "execute_result"
    }
   ],
   "source": [
    "#Where in the dataset are the missing values?\n",
    "df.isnull().sum()"
   ]
  },
  {
   "cell_type": "code",
   "execution_count": 12,
   "id": "e788904e",
   "metadata": {},
   "outputs": [
    {
     "name": "stdout",
     "output_type": "stream",
     "text": [
      "Number of duplicated rows: 0\n"
     ]
    }
   ],
   "source": [
    "# Finding duplicates in the  the dataset.\n",
    "duplicates = df.duplicated().sum()\n",
    "print(f\"Number of duplicated rows: {duplicates}\")"
   ]
  },
  {
   "cell_type": "code",
   "execution_count": 13,
   "id": "56fd2c92",
   "metadata": {},
   "outputs": [
    {
     "data": {
      "text/plain": [
       "np.False_"
      ]
     },
     "execution_count": 13,
     "metadata": {},
     "output_type": "execute_result"
    }
   ],
   "source": [
    "df.duplicated().any()"
   ]
  },
  {
   "cell_type": "code",
   "execution_count": 14,
   "id": "dad5b8c9",
   "metadata": {},
   "outputs": [
    {
     "data": {
      "text/html": [
       "<div>\n",
       "<style scoped>\n",
       "    .dataframe tbody tr th:only-of-type {\n",
       "        vertical-align: middle;\n",
       "    }\n",
       "\n",
       "    .dataframe tbody tr th {\n",
       "        vertical-align: top;\n",
       "    }\n",
       "\n",
       "    .dataframe thead th {\n",
       "        text-align: right;\n",
       "    }\n",
       "</style>\n",
       "<table border=\"1\" class=\"dataframe\">\n",
       "  <thead>\n",
       "    <tr style=\"text-align: right;\">\n",
       "      <th></th>\n",
       "      <th>age</th>\n",
       "      <th>study_hours_per_day</th>\n",
       "      <th>social_media_hours</th>\n",
       "      <th>netflix_hours</th>\n",
       "      <th>attendance_percentage</th>\n",
       "      <th>sleep_hours</th>\n",
       "      <th>exercise_frequency</th>\n",
       "      <th>mental_health_rating</th>\n",
       "      <th>exam_score</th>\n",
       "    </tr>\n",
       "  </thead>\n",
       "  <tbody>\n",
       "    <tr>\n",
       "      <th>count</th>\n",
       "      <td>1000.0000</td>\n",
       "      <td>1000.00000</td>\n",
       "      <td>1000.000000</td>\n",
       "      <td>1000.000000</td>\n",
       "      <td>1000.000000</td>\n",
       "      <td>1000.000000</td>\n",
       "      <td>1000.000000</td>\n",
       "      <td>1000.000000</td>\n",
       "      <td>1000.000000</td>\n",
       "    </tr>\n",
       "    <tr>\n",
       "      <th>mean</th>\n",
       "      <td>20.4980</td>\n",
       "      <td>3.55010</td>\n",
       "      <td>2.505500</td>\n",
       "      <td>1.819700</td>\n",
       "      <td>84.131700</td>\n",
       "      <td>6.470100</td>\n",
       "      <td>3.042000</td>\n",
       "      <td>5.438000</td>\n",
       "      <td>69.601500</td>\n",
       "    </tr>\n",
       "    <tr>\n",
       "      <th>std</th>\n",
       "      <td>2.3081</td>\n",
       "      <td>1.46889</td>\n",
       "      <td>1.172422</td>\n",
       "      <td>1.075118</td>\n",
       "      <td>9.399246</td>\n",
       "      <td>1.226377</td>\n",
       "      <td>2.025423</td>\n",
       "      <td>2.847501</td>\n",
       "      <td>16.888564</td>\n",
       "    </tr>\n",
       "    <tr>\n",
       "      <th>min</th>\n",
       "      <td>17.0000</td>\n",
       "      <td>0.00000</td>\n",
       "      <td>0.000000</td>\n",
       "      <td>0.000000</td>\n",
       "      <td>56.000000</td>\n",
       "      <td>3.200000</td>\n",
       "      <td>0.000000</td>\n",
       "      <td>1.000000</td>\n",
       "      <td>18.400000</td>\n",
       "    </tr>\n",
       "    <tr>\n",
       "      <th>25%</th>\n",
       "      <td>18.7500</td>\n",
       "      <td>2.60000</td>\n",
       "      <td>1.700000</td>\n",
       "      <td>1.000000</td>\n",
       "      <td>78.000000</td>\n",
       "      <td>5.600000</td>\n",
       "      <td>1.000000</td>\n",
       "      <td>3.000000</td>\n",
       "      <td>58.475000</td>\n",
       "    </tr>\n",
       "    <tr>\n",
       "      <th>50%</th>\n",
       "      <td>20.0000</td>\n",
       "      <td>3.50000</td>\n",
       "      <td>2.500000</td>\n",
       "      <td>1.800000</td>\n",
       "      <td>84.400000</td>\n",
       "      <td>6.500000</td>\n",
       "      <td>3.000000</td>\n",
       "      <td>5.000000</td>\n",
       "      <td>70.500000</td>\n",
       "    </tr>\n",
       "    <tr>\n",
       "      <th>75%</th>\n",
       "      <td>23.0000</td>\n",
       "      <td>4.50000</td>\n",
       "      <td>3.300000</td>\n",
       "      <td>2.525000</td>\n",
       "      <td>91.025000</td>\n",
       "      <td>7.300000</td>\n",
       "      <td>5.000000</td>\n",
       "      <td>8.000000</td>\n",
       "      <td>81.325000</td>\n",
       "    </tr>\n",
       "    <tr>\n",
       "      <th>max</th>\n",
       "      <td>24.0000</td>\n",
       "      <td>8.30000</td>\n",
       "      <td>7.200000</td>\n",
       "      <td>5.400000</td>\n",
       "      <td>100.000000</td>\n",
       "      <td>10.000000</td>\n",
       "      <td>6.000000</td>\n",
       "      <td>10.000000</td>\n",
       "      <td>100.000000</td>\n",
       "    </tr>\n",
       "  </tbody>\n",
       "</table>\n",
       "</div>"
      ],
      "text/plain": [
       "             age  study_hours_per_day  social_media_hours  netflix_hours  \\\n",
       "count  1000.0000           1000.00000         1000.000000    1000.000000   \n",
       "mean     20.4980              3.55010            2.505500       1.819700   \n",
       "std       2.3081              1.46889            1.172422       1.075118   \n",
       "min      17.0000              0.00000            0.000000       0.000000   \n",
       "25%      18.7500              2.60000            1.700000       1.000000   \n",
       "50%      20.0000              3.50000            2.500000       1.800000   \n",
       "75%      23.0000              4.50000            3.300000       2.525000   \n",
       "max      24.0000              8.30000            7.200000       5.400000   \n",
       "\n",
       "       attendance_percentage  sleep_hours  exercise_frequency  \\\n",
       "count            1000.000000  1000.000000         1000.000000   \n",
       "mean               84.131700     6.470100            3.042000   \n",
       "std                 9.399246     1.226377            2.025423   \n",
       "min                56.000000     3.200000            0.000000   \n",
       "25%                78.000000     5.600000            1.000000   \n",
       "50%                84.400000     6.500000            3.000000   \n",
       "75%                91.025000     7.300000            5.000000   \n",
       "max               100.000000    10.000000            6.000000   \n",
       "\n",
       "       mental_health_rating   exam_score  \n",
       "count           1000.000000  1000.000000  \n",
       "mean               5.438000    69.601500  \n",
       "std                2.847501    16.888564  \n",
       "min                1.000000    18.400000  \n",
       "25%                3.000000    58.475000  \n",
       "50%                5.000000    70.500000  \n",
       "75%                8.000000    81.325000  \n",
       "max               10.000000   100.000000  "
      ]
     },
     "execution_count": 14,
     "metadata": {},
     "output_type": "execute_result"
    }
   ],
   "source": [
    "df.describe()\n"
   ]
  },
  {
   "cell_type": "code",
   "execution_count": 15,
   "id": "98aeca73",
   "metadata": {},
   "outputs": [
    {
     "name": "stdout",
     "output_type": "stream",
     "text": [
      "Empty DataFrame\n",
      "Columns: [student_id, age, gender, study_hours_per_day, social_media_hours, netflix_hours, part_time_job, attendance_percentage, sleep_hours, diet_quality, exercise_frequency, internet_quality, mental_health_rating, extracurricular_participation, exam_score]\n",
      "Index: []\n",
      "Empty DataFrame\n",
      "Columns: [student_id, age, gender, study_hours_per_day, social_media_hours, netflix_hours, part_time_job, attendance_percentage, sleep_hours, diet_quality, exercise_frequency, internet_quality, mental_health_rating, extracurricular_participation, exam_score]\n",
      "Index: []\n",
      "Empty DataFrame\n",
      "Columns: [student_id, age, gender, study_hours_per_day, social_media_hours, netflix_hours, part_time_job, attendance_percentage, sleep_hours, diet_quality, exercise_frequency, internet_quality, mental_health_rating, extracurricular_participation, exam_score]\n",
      "Index: []\n",
      "Empty DataFrame\n",
      "Columns: [student_id, age, gender, study_hours_per_day, social_media_hours, netflix_hours, part_time_job, attendance_percentage, sleep_hours, diet_quality, exercise_frequency, internet_quality, mental_health_rating, extracurricular_participation, exam_score]\n",
      "Index: []\n",
      "Empty DataFrame\n",
      "Columns: [student_id, age, gender, study_hours_per_day, social_media_hours, netflix_hours, part_time_job, attendance_percentage, sleep_hours, diet_quality, exercise_frequency, internet_quality, mental_health_rating, extracurricular_participation, exam_score]\n",
      "Index: []\n",
      "Empty DataFrame\n",
      "Columns: [student_id, age, gender, study_hours_per_day, social_media_hours, netflix_hours, part_time_job, attendance_percentage, sleep_hours, diet_quality, exercise_frequency, internet_quality, mental_health_rating, extracurricular_participation, exam_score]\n",
      "Index: []\n",
      "    student_id  age  gender  study_hours_per_day  social_media_hours  \\\n",
      "2        S1002   21    Male                  1.4                 3.1   \n",
      "5        S1005   24    Male                  7.2                 1.3   \n",
      "7        S1007   21  Female                  4.3                 1.0   \n",
      "10       S1010   19  Female                  4.6                 3.7   \n",
      "12       S1012   19  Female                  3.7                 2.1   \n",
      "..         ...  ...     ...                  ...                 ...   \n",
      "990      S1990   18    Male                  3.2                 3.5   \n",
      "993      S1993   20    Male                  3.8                 2.1   \n",
      "994      S1994   20  Female                  1.6                 1.3   \n",
      "996      S1996   17  Female                  2.9                 1.0   \n",
      "998      S1998   24    Male                  5.4                 4.1   \n",
      "\n",
      "     netflix_hours part_time_job  attendance_percentage  sleep_hours  \\\n",
      "2              1.3            No                   94.8          8.0   \n",
      "5              0.0            No                   82.9          7.4   \n",
      "7              2.0           Yes                   77.7          4.6   \n",
      "10             0.8            No                   77.6          5.8   \n",
      "12             0.4           Yes                   81.1          4.5   \n",
      "..             ...           ...                    ...          ...   \n",
      "990            1.7            No                   91.7          6.5   \n",
      "993            1.0            No                   89.0          5.2   \n",
      "994            2.9            No                   75.3          5.6   \n",
      "996            2.4           Yes                   86.0          6.8   \n",
      "998            1.1           Yes                  100.0          7.6   \n",
      "\n",
      "    diet_quality  exercise_frequency internet_quality  mental_health_rating  \\\n",
      "2           Poor                   1             Poor                     1   \n",
      "5           Fair                   1          Average                     4   \n",
      "7           Fair                   0          Average                     8   \n",
      "10          Fair                   1             Good                     3   \n",
      "12          Fair                   1             Good                     9   \n",
      "..           ...                 ...              ...                   ...   \n",
      "990         Good                   1             Good                     5   \n",
      "993         Good                   1             Good                     7   \n",
      "994         Good                   0          Average                     5   \n",
      "996         Poor                   1          Average                     6   \n",
      "998         Fair                   0          Average                     1   \n",
      "\n",
      "    extracurricular_participation  exam_score  \n",
      "2                              No        34.3  \n",
      "5                              No       100.0  \n",
      "7                              No        72.6  \n",
      "10                             No        63.3  \n",
      "12                             No        76.9  \n",
      "..                            ...         ...  \n",
      "990                            No        63.6  \n",
      "993                            No        70.9  \n",
      "994                            No        41.7  \n",
      "996                           Yes        65.9  \n",
      "998                            No        69.7  \n",
      "\n",
      "[290 rows x 15 columns]\n"
     ]
    }
   ],
   "source": [
    "# Validate data ranges.\n",
    "def validate_range(df, column, min_val, max_val):\n",
    "    return df[(df[column] < min_val) | (df[column] > max_val)]\n",
    "\n",
    "print(validate_range(df, 'age', 17, 24))\n",
    "print(validate_range(df, 'study_hours_per_day', 0, 9))\n",
    "print(validate_range(df, 'social_media_hours', 0, 8))\n",
    "print(validate_range(df, 'netflix_hours', 0, 6))\n",
    "print(validate_range(df, 'attendance_percentage', 8, 100))\n",
    "print(validate_range(df, 'sleep_hours', 0, 10))\n",
    "print(validate_range(df, 'exercise_frequency', 2, 8))"
   ]
  },
  {
   "cell_type": "code",
   "execution_count": 16,
   "id": "803165f4",
   "metadata": {},
   "outputs": [
    {
     "name": "stdout",
     "output_type": "stream",
     "text": [
      "MEAN study hours by mental-health rating:\n",
      "mental_health_ratings\n",
      "1     3.816102\n",
      "2     4.044578\n",
      "3     3.946364\n",
      "4     3.445745\n",
      "5     3.692523\n",
      "6     3.406250\n",
      "7     3.672340\n",
      "8     3.458000\n",
      "9     4.025275\n",
      "10    3.707477\n",
      "Name: study_hours_per_day, dtype: float64\n",
      "\n",
      "MEDIAN study hours by mental-health rating:\n",
      "mental_health_ratings\n",
      "1     3.90\n",
      "2     4.30\n",
      "3     4.40\n",
      "4     3.40\n",
      "5     3.70\n",
      "6     3.30\n",
      "7     3.75\n",
      "8     3.50\n",
      "9     4.30\n",
      "10    3.50\n",
      "Name: study_hours_per_day, dtype: float64\n"
     ]
    }
   ],
   "source": [
    "# mean/ median per mental health grouping-\n",
    "\n",
    "class StudentAnalyzer:\n",
    "\n",
    "    def __init__(self, data: pd.DataFrame):\n",
    "        expected = {'mental_health_ratings', 'study_hours_per_day'}\n",
    "        if not expected.issubset(data.columns):\n",
    "            missing = expected - set(data.columns)\n",
    "            raise ValueError(f\"Missing required columns: {missing}\")\n",
    "        self.data = data.copy()\n",
    "\n",
    "\n",
    "    def mean_study_by_mental_health(self) -> pd.Series:\n",
    "        return (self.data\n",
    "                  .groupby('mental_health_ratings')['study_hours_per_day']\n",
    "                  .mean()\n",
    "                  .sort_index())\n",
    "\n",
    "    def median_study_by_mental_health(self) -> pd.Series:\n",
    "        return (self.data\n",
    "                  .groupby('mental_health_ratings')['study_hours_per_day']\n",
    "                  .median()\n",
    "                  .sort_index())\n",
    "if __name__ == \"__main__\":\n",
    "    np.random.seed(42)                          # makes demo reproducible\n",
    "    df = pd.DataFrame({\n",
    "        \"mental_health_ratings\": np.random.randint(1, 11, size=1000),\n",
    "        \"study_hours_per_day\":  np.random.uniform(0.0, 7.4, size=1000).round(1)\n",
    "    })\n",
    "\n",
    "    analyzer = StudentAnalyzer(df)\n",
    " \n",
    "    print(\"MEAN study hours by mental-health rating:\")\n",
    "    print(analyzer.mean_study_by_mental_health(), end=\"\\n\\n\")\n",
    "\n",
    "    print(\"MEDIAN study hours by mental-health rating:\")\n",
    "    print(analyzer.median_study_by_mental_health())"
   ]
  },
  {
   "cell_type": "code",
   "execution_count": 17,
   "id": "812c984d",
   "metadata": {},
   "outputs": [
    {
     "ename": "KeyError",
     "evalue": "'sleep_hours'",
     "output_type": "error",
     "traceback": [
      "\u001b[31m---------------------------------------------------------------------------\u001b[39m",
      "\u001b[31mKeyError\u001b[39m                                  Traceback (most recent call last)",
      "\u001b[36mFile \u001b[39m\u001b[32mc:\\Users\\mhlon\\AppData\\Local\\Programs\\Python\\Python313\\Lib\\site-packages\\pandas\\core\\indexes\\base.py:3805\u001b[39m, in \u001b[36mIndex.get_loc\u001b[39m\u001b[34m(self, key)\u001b[39m\n\u001b[32m   3804\u001b[39m \u001b[38;5;28;01mtry\u001b[39;00m:\n\u001b[32m-> \u001b[39m\u001b[32m3805\u001b[39m     \u001b[38;5;28;01mreturn\u001b[39;00m \u001b[38;5;28;43mself\u001b[39;49m\u001b[43m.\u001b[49m\u001b[43m_engine\u001b[49m\u001b[43m.\u001b[49m\u001b[43mget_loc\u001b[49m\u001b[43m(\u001b[49m\u001b[43mcasted_key\u001b[49m\u001b[43m)\u001b[49m\n\u001b[32m   3806\u001b[39m \u001b[38;5;28;01mexcept\u001b[39;00m \u001b[38;5;167;01mKeyError\u001b[39;00m \u001b[38;5;28;01mas\u001b[39;00m err:\n",
      "\u001b[36mFile \u001b[39m\u001b[32mindex.pyx:167\u001b[39m, in \u001b[36mpandas._libs.index.IndexEngine.get_loc\u001b[39m\u001b[34m()\u001b[39m\n",
      "\u001b[36mFile \u001b[39m\u001b[32mindex.pyx:196\u001b[39m, in \u001b[36mpandas._libs.index.IndexEngine.get_loc\u001b[39m\u001b[34m()\u001b[39m\n",
      "\u001b[36mFile \u001b[39m\u001b[32mpandas\\\\_libs\\\\hashtable_class_helper.pxi:7081\u001b[39m, in \u001b[36mpandas._libs.hashtable.PyObjectHashTable.get_item\u001b[39m\u001b[34m()\u001b[39m\n",
      "\u001b[36mFile \u001b[39m\u001b[32mpandas\\\\_libs\\\\hashtable_class_helper.pxi:7089\u001b[39m, in \u001b[36mpandas._libs.hashtable.PyObjectHashTable.get_item\u001b[39m\u001b[34m()\u001b[39m\n",
      "\u001b[31mKeyError\u001b[39m: 'sleep_hours'",
      "\nThe above exception was the direct cause of the following exception:\n",
      "\u001b[31mKeyError\u001b[39m                                  Traceback (most recent call last)",
      "\u001b[36mCell\u001b[39m\u001b[36m \u001b[39m\u001b[32mIn[17]\u001b[39m\u001b[32m, line 2\u001b[39m\n\u001b[32m      1\u001b[39m \u001b[38;5;66;03m# Averages\u001b[39;00m\n\u001b[32m----> \u001b[39m\u001b[32m2\u001b[39m average_sleep = \u001b[43mdf\u001b[49m\u001b[43m[\u001b[49m\u001b[33;43m'\u001b[39;49m\u001b[33;43msleep_hours\u001b[39;49m\u001b[33;43m'\u001b[39;49m\u001b[43m]\u001b[49m.mean()\n\u001b[32m      3\u001b[39m average_score = df[\u001b[33m'\u001b[39m\u001b[33mexam_score\u001b[39m\u001b[33m'\u001b[39m].mean()\n\u001b[32m      5\u001b[39m \u001b[38;5;28mprint\u001b[39m(\u001b[33m\"\u001b[39m\u001b[33mAverage sleep hours:\u001b[39m\u001b[33m\"\u001b[39m, average_sleep)\n",
      "\u001b[36mFile \u001b[39m\u001b[32mc:\\Users\\mhlon\\AppData\\Local\\Programs\\Python\\Python313\\Lib\\site-packages\\pandas\\core\\frame.py:4102\u001b[39m, in \u001b[36mDataFrame.__getitem__\u001b[39m\u001b[34m(self, key)\u001b[39m\n\u001b[32m   4100\u001b[39m \u001b[38;5;28;01mif\u001b[39;00m \u001b[38;5;28mself\u001b[39m.columns.nlevels > \u001b[32m1\u001b[39m:\n\u001b[32m   4101\u001b[39m     \u001b[38;5;28;01mreturn\u001b[39;00m \u001b[38;5;28mself\u001b[39m._getitem_multilevel(key)\n\u001b[32m-> \u001b[39m\u001b[32m4102\u001b[39m indexer = \u001b[38;5;28;43mself\u001b[39;49m\u001b[43m.\u001b[49m\u001b[43mcolumns\u001b[49m\u001b[43m.\u001b[49m\u001b[43mget_loc\u001b[49m\u001b[43m(\u001b[49m\u001b[43mkey\u001b[49m\u001b[43m)\u001b[49m\n\u001b[32m   4103\u001b[39m \u001b[38;5;28;01mif\u001b[39;00m is_integer(indexer):\n\u001b[32m   4104\u001b[39m     indexer = [indexer]\n",
      "\u001b[36mFile \u001b[39m\u001b[32mc:\\Users\\mhlon\\AppData\\Local\\Programs\\Python\\Python313\\Lib\\site-packages\\pandas\\core\\indexes\\base.py:3812\u001b[39m, in \u001b[36mIndex.get_loc\u001b[39m\u001b[34m(self, key)\u001b[39m\n\u001b[32m   3807\u001b[39m     \u001b[38;5;28;01mif\u001b[39;00m \u001b[38;5;28misinstance\u001b[39m(casted_key, \u001b[38;5;28mslice\u001b[39m) \u001b[38;5;129;01mor\u001b[39;00m (\n\u001b[32m   3808\u001b[39m         \u001b[38;5;28misinstance\u001b[39m(casted_key, abc.Iterable)\n\u001b[32m   3809\u001b[39m         \u001b[38;5;129;01mand\u001b[39;00m \u001b[38;5;28many\u001b[39m(\u001b[38;5;28misinstance\u001b[39m(x, \u001b[38;5;28mslice\u001b[39m) \u001b[38;5;28;01mfor\u001b[39;00m x \u001b[38;5;129;01min\u001b[39;00m casted_key)\n\u001b[32m   3810\u001b[39m     ):\n\u001b[32m   3811\u001b[39m         \u001b[38;5;28;01mraise\u001b[39;00m InvalidIndexError(key)\n\u001b[32m-> \u001b[39m\u001b[32m3812\u001b[39m     \u001b[38;5;28;01mraise\u001b[39;00m \u001b[38;5;167;01mKeyError\u001b[39;00m(key) \u001b[38;5;28;01mfrom\u001b[39;00m\u001b[38;5;250m \u001b[39m\u001b[34;01merr\u001b[39;00m\n\u001b[32m   3813\u001b[39m \u001b[38;5;28;01mexcept\u001b[39;00m \u001b[38;5;167;01mTypeError\u001b[39;00m:\n\u001b[32m   3814\u001b[39m     \u001b[38;5;66;03m# If we have a listlike key, _check_indexing_error will raise\u001b[39;00m\n\u001b[32m   3815\u001b[39m     \u001b[38;5;66;03m#  InvalidIndexError. Otherwise we fall through and re-raise\u001b[39;00m\n\u001b[32m   3816\u001b[39m     \u001b[38;5;66;03m#  the TypeError.\u001b[39;00m\n\u001b[32m   3817\u001b[39m     \u001b[38;5;28mself\u001b[39m._check_indexing_error(key)\n",
      "\u001b[31mKeyError\u001b[39m: 'sleep_hours'"
     ]
    }
   ],
   "source": [
    "# Averages\n",
    "average_sleep = df['sleep_hours'].mean()\n",
    "average_score = df['exam_score'].mean()\n",
    "\n",
    "print(\"Average sleep hours:\", average_sleep)\n",
    "print(\"Average exam score:\", average_score)"
   ]
  },
  {
   "cell_type": "code",
   "execution_count": null,
   "id": "b7832fd3",
   "metadata": {},
   "outputs": [],
   "source": [
    "#  --- Correlation using pandas (easiest) ---\n",
    "r = df['sleep_hours'].corr(df['exam_score'])\n",
    "print(\"Correlation r:\", r)"
   ]
  },
  {
   "cell_type": "code",
   "execution_count": null,
   "id": "4bda1eb1",
   "metadata": {},
   "outputs": [],
   "source": [
    "#We use the IQR to find outliers.\n",
    "#IQR = Q3 − Q1\n",
    "# Quartiles \n",
    "Q1 = df[\"social_media_hours\"].quantile(0.25)\n",
    "Q3 = df[\"social_media_hours\"].quantile(0.75)\n",
    "\n",
    "# IQR\n",
    "IQR = Q3 - Q1\n",
    "\n",
    "# Limits\n",
    "lower_limit = Q1 - 1.5 * IQR\n",
    "upper_limit = Q3 + 1.5 * IQR"
   ]
  },
  {
   "cell_type": "code",
   "execution_count": null,
   "id": "fb2160b0",
   "metadata": {},
   "outputs": [],
   "source": [
    "# Outliers\n",
    "outliers = df[\n",
    "    (df[\"social_media_hours\"] < lower_limit) |\n",
    "    (df[\"social_media_hours\"] > upper_limit)\n",
    "]\n",
    "\n",
    "print(\"Outlier limits:\", lower_limit, \"to\", upper_limit)\n",
    "print(\"Number of outliers:\", len(outliers))"
   ]
  },
  {
   "cell_type": "code",
   "execution_count": null,
   "id": "6d1cffed",
   "metadata": {},
   "outputs": [],
   "source": [
    "import os, glob\n",
    "print(\"Notebook folder →\", os.getcwd())"
   ]
  },
  {
   "cell_type": "code",
   "execution_count": null,
   "id": "e3677cd0",
   "metadata": {},
   "outputs": [],
   "source": [
    "import pandas as pd\n",
    "\n",
    "file_path = \"student analysis/student_habits_performance.xlsx\"\n",
    "try:\n",
    "    df = pd.read_excel(file_path)\n",
    "    print(\"File loaded successfully.\")\n",
    "    print(df.head())  # see if data looks good\n",
    "except FileNotFoundError:\n",
    "    print(\"File not found! Check the path again.\")"
   ]
  },
  {
   "cell_type": "code",
   "execution_count": null,
   "id": "b66f8b97",
   "metadata": {},
   "outputs": [],
   "source": [
    "file_path = \"student_habits_performance.xlsx\"\n",
    "df = pd.read_excel(file_path)\n",
    "print(df.head())"
   ]
  },
  {
   "cell_type": "code",
   "execution_count": null,
   "id": "b04880f6",
   "metadata": {},
   "outputs": [],
   "source": [
    "\n",
    "\n",
    "plt.figure(figsize=(8, 5))\n",
    "sns.histplot(df['study_hours_per_day'], bins=10, kde=True, color='skyblue')\n",
    "\n",
    "plt.title('Distribution of Study Hours Per Day')\n",
    "plt.xlabel('Study Hours Per Day')\n",
    "plt.ylabel('Number of Students')\n",
    "\n",
    "plt.grid(True)\n",
    "plt.show()"
   ]
  },
  {
   "cell_type": "code",
   "execution_count": null,
   "id": "a4ee4640",
   "metadata": {},
   "outputs": [],
   "source": [
    "plt.figure(figsize=(8, 5))\n",
    "sns.scatterplot(x=df['sleep_hours'], y=df['exam_score'])\n",
    "\n",
    "plt.title('Sleep Hours vs. Exam Score')\n",
    "plt.xlabel('Sleep Hours')\n",
    "plt.ylabel('Exam Score')\n",
    "\n",
    "plt.grid(True)\n",
    "plt.show()"
   ]
  },
  {
   "cell_type": "code",
   "execution_count": null,
   "id": "0f6c29c0",
   "metadata": {},
   "outputs": [],
   "source": [
    "plt.figure(figsize=(8, 5))\n",
    "sns.boxplot(x=df['diet_quality'], y=df['exam_score'])\n",
    "\n",
    "plt.title('Exam Scores by Diet Quality')\n",
    "plt.xlabel('Diet Quality')\n",
    "plt.ylabel('Exam Score')\n",
    "plt.grid(True, axis='y')\n",
    "plt.show()"
   ]
  },
  {
   "cell_type": "code",
   "execution_count": null,
   "id": "b2051b15",
   "metadata": {},
   "outputs": [],
   "source": []
  }
 ],
 "metadata": {
  "kernelspec": {
   "display_name": "Python 3",
   "language": "python",
   "name": "python3"
  },
  "language_info": {
   "codemirror_mode": {
    "name": "ipython",
    "version": 3
   },
   "file_extension": ".py",
   "mimetype": "text/x-python",
   "name": "python",
   "nbconvert_exporter": "python",
   "pygments_lexer": "ipython3",
   "version": "3.13.2"
  }
 },
 "nbformat": 4,
 "nbformat_minor": 5
}
